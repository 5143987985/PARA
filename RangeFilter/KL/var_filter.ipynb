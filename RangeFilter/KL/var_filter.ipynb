{
 "cells": [
  {
   "cell_type": "code",
   "execution_count": 1,
   "id": "f3fb6851",
   "metadata": {},
   "outputs": [],
   "source": [
    "import numpy as np\n",
    "import pandas as pd\n",
    "import math\n",
    "# import tensorflow as tf"
   ]
  },
  {
   "cell_type": "code",
   "execution_count": 2,
   "id": "b5b95cc9",
   "metadata": {},
   "outputs": [],
   "source": [
    "FWT = pd.read_excel(\"TAD_20221004_QW_1.xlsx\", usecols=[3])\n",
    "Q = pd.read_excel(\"TAD_20221004_QW_1.xlsx\", usecols=[2])\n",
    "V = pd.read_excel(\"TAD_20221004_QW_1.xlsx\", usecols=[1])\n",
    "L = pd.read_excel(\"TAD_20221004_QW_1.xlsx\", usecols=[0])"
   ]
  },
  {
   "cell_type": "code",
   "execution_count": 3,
   "id": "47b83713",
   "metadata": {},
   "outputs": [],
   "source": [
    "FWT = FWT.dropna(axis=0, how=\"all\")\n",
    "Q = Q.dropna(axis=0, how=\"all\")\n",
    "V = V.dropna(axis=0, how=\"all\")\n",
    "L = L.dropna(axis=0, how=\"all\")\n",
    "Q.columns=['data']\n",
    "V.columns=['data']\n",
    "L.columns=['data']"
   ]
  },
  {
   "cell_type": "code",
   "execution_count": 4,
   "id": "945a91a3",
   "metadata": {},
   "outputs": [],
   "source": [
    "FWT_mean = FWT.mean()"
   ]
  },
  {
   "cell_type": "code",
   "execution_count": 5,
   "id": "f059ac60",
   "metadata": {},
   "outputs": [],
   "source": [
    "FWT_var = FWT.var()"
   ]
  },
  {
   "cell_type": "code",
   "execution_count": 6,
   "id": "a942158b",
   "metadata": {},
   "outputs": [
    {
     "data": {
      "text/plain": [
       "(0.0011179750000000002, 3.456858711538461e-07)"
      ]
     },
     "execution_count": 6,
     "metadata": {},
     "output_type": "execute_result"
    }
   ],
   "source": [
    "FWT_mean[0], FWT_var[0]"
   ]
  },
  {
   "cell_type": "code",
   "execution_count": 7,
   "id": "9ceaa113",
   "metadata": {},
   "outputs": [],
   "source": [
    "def filter_by_std_mean(std_mean, threshold, data):\n",
    "    new = []\n",
    "    for _, row in data.iterrows():\n",
    "        dis = (row['data']-std_mean)**2\n",
    "        if (dis < threshold):\n",
    "            new.append(row['data'])\n",
    "            #print(row['data'])\n",
    "    return new"
   ]
  },
  {
   "cell_type": "code",
   "execution_count": 8,
   "id": "1bc636ab",
   "metadata": {},
   "outputs": [],
   "source": [
    "def filter_by_test_mean(test_mean, threshold, data):\n",
    "    new = []\n",
    "    for _, row in data.iterrows():\n",
    "        dis = (row['data']-test_mean)**2\n",
    "        if (dis < threshold):\n",
    "            new.append(row['data'])\n",
    "            #print(row['data'])\n",
    "    return new"
   ]
  },
  {
   "cell_type": "code",
   "execution_count": 9,
   "id": "fa3ee58b",
   "metadata": {},
   "outputs": [],
   "source": [
    "result_std_mean  = filter_by_std_mean(FWT_mean[0], FWT_var[0], Q)"
   ]
  },
  {
   "cell_type": "code",
   "execution_count": 10,
   "id": "04e682f5",
   "metadata": {},
   "outputs": [
    {
     "data": {
      "text/plain": [
       "64"
      ]
     },
     "execution_count": 10,
     "metadata": {},
     "output_type": "execute_result"
    }
   ],
   "source": [
    "len(result_std_mean)"
   ]
  },
  {
   "cell_type": "code",
   "execution_count": 11,
   "id": "008fa631",
   "metadata": {},
   "outputs": [],
   "source": [
    "result_test_mean  = filter_by_test_mean(Q.mean()[0], FWT_var[0], Q)"
   ]
  },
  {
   "cell_type": "code",
   "execution_count": 12,
   "id": "b51e63cc",
   "metadata": {},
   "outputs": [
    {
     "data": {
      "text/plain": [
       "55"
      ]
     },
     "execution_count": 12,
     "metadata": {},
     "output_type": "execute_result"
    }
   ],
   "source": [
    "len(result_test_mean)"
   ]
  },
  {
   "cell_type": "code",
   "execution_count": null,
   "id": "0cb59a63",
   "metadata": {},
   "outputs": [],
   "source": []
  },
  {
   "cell_type": "code",
   "execution_count": null,
   "id": "0e3a50cf",
   "metadata": {},
   "outputs": [],
   "source": []
  }
 ],
 "metadata": {
  "kernelspec": {
   "display_name": "quantify",
   "language": "python",
   "name": "quantify"
  },
  "language_info": {
   "codemirror_mode": {
    "name": "ipython",
    "version": 3
   },
   "file_extension": ".py",
   "mimetype": "text/x-python",
   "name": "python",
   "nbconvert_exporter": "python",
   "pygments_lexer": "ipython3",
   "version": "3.9.12"
  }
 },
 "nbformat": 4,
 "nbformat_minor": 5
}
