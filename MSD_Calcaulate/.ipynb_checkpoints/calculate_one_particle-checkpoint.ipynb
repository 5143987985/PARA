{
 "cells": [
  {
   "cell_type": "code",
   "execution_count": 1,
   "id": "dd5ab45f",
   "metadata": {},
   "outputs": [],
   "source": [
    "import numpy as np\n",
    "import pandas as pd"
   ]
  },
  {
   "cell_type": "code",
   "execution_count": 2,
   "id": "18b1646e",
   "metadata": {},
   "outputs": [
    {
     "data": {
      "text/html": [
       "<div>\n",
       "<style scoped>\n",
       "    .dataframe tbody tr th:only-of-type {\n",
       "        vertical-align: middle;\n",
       "    }\n",
       "\n",
       "    .dataframe tbody tr th {\n",
       "        vertical-align: top;\n",
       "    }\n",
       "\n",
       "    .dataframe thead th {\n",
       "        text-align: right;\n",
       "    }\n",
       "</style>\n",
       "<table border=\"1\" class=\"dataframe\">\n",
       "  <thead>\n",
       "    <tr style=\"text-align: right;\">\n",
       "      <th></th>\n",
       "      <th>X</th>\n",
       "      <th>Y</th>\n",
       "    </tr>\n",
       "  </thead>\n",
       "  <tbody>\n",
       "    <tr>\n",
       "      <th>0</th>\n",
       "      <td>262.333333</td>\n",
       "      <td>381.333333</td>\n",
       "    </tr>\n",
       "    <tr>\n",
       "      <th>1</th>\n",
       "      <td>261.500000</td>\n",
       "      <td>379.000000</td>\n",
       "    </tr>\n",
       "    <tr>\n",
       "      <th>2</th>\n",
       "      <td>260.600000</td>\n",
       "      <td>379.200000</td>\n",
       "    </tr>\n",
       "    <tr>\n",
       "      <th>3</th>\n",
       "      <td>262.000000</td>\n",
       "      <td>378.000000</td>\n",
       "    </tr>\n",
       "    <tr>\n",
       "      <th>4</th>\n",
       "      <td>262.666667</td>\n",
       "      <td>376.333333</td>\n",
       "    </tr>\n",
       "  </tbody>\n",
       "</table>\n",
       "</div>"
      ],
      "text/plain": [
       "            X           Y\n",
       "0  262.333333  381.333333\n",
       "1  261.500000  379.000000\n",
       "2  260.600000  379.200000\n",
       "3  262.000000  378.000000\n",
       "4  262.666667  376.333333"
      ]
     },
     "execution_count": 2,
     "metadata": {},
     "output_type": "execute_result"
    }
   ],
   "source": [
    "one_data = pd.read_excel('one_particle.xlsx')\n",
    "one_data.columns = ['X', 'Y']\n",
    "one_data.head()"
   ]
  },
  {
   "cell_type": "code",
   "execution_count": 4,
   "id": "425bb920",
   "metadata": {},
   "outputs": [
    {
     "data": {
      "text/plain": [
       "0      381.333333\n",
       "1      379.000000\n",
       "2      379.200000\n",
       "3      378.000000\n",
       "4      376.333333\n",
       "          ...    \n",
       "191    372.000000\n",
       "192    370.000000\n",
       "193    369.000000\n",
       "194    367.333333\n",
       "195    368.500000\n",
       "Name: Y, Length: 196, dtype: float64"
      ]
     },
     "execution_count": 4,
     "metadata": {},
     "output_type": "execute_result"
    }
   ],
   "source": [
    "one_data['X'].astype(float)\n",
    "one_data['Y'].astype(float)"
   ]
  },
  {
   "cell_type": "code",
   "execution_count": null,
   "id": "f06bd6ce",
   "metadata": {},
   "outputs": [],
   "source": [
    "N = len(one_data)\n",
    "msd_m = []\n",
    "for m in range(1, N-1):\n",
    "    diff_x = []\n",
    "    diff_y = []\n",
    "    for i in range(0, N-m-1):\n",
    "        diff_x.append(x[i+m] - x[i])\n",
    "        diff_y.append(y[i+m] - y[i])\n",
    "    \n",
    "    diff_x = np.array(diff_x)\n",
    "    diff_y = np.array(diff_y)\n",
    "    diff_sq = diff_x**2 + diff_y**2\n",
    "    msd = np.mean(diff_sq, axis=0)\n",
    "    \n",
    "    msd_"
   ]
  }
 ],
 "metadata": {
  "kernelspec": {
   "display_name": "quantify",
   "language": "python",
   "name": "quantify"
  },
  "language_info": {
   "codemirror_mode": {
    "name": "ipython",
    "version": 3
   },
   "file_extension": ".py",
   "mimetype": "text/x-python",
   "name": "python",
   "nbconvert_exporter": "python",
   "pygments_lexer": "ipython3",
   "version": "3.9.12"
  }
 },
 "nbformat": 4,
 "nbformat_minor": 5
}
